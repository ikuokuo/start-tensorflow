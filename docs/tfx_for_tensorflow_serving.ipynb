{
 "cells": [
  {
   "cell_type": "markdown",
   "id": "herbal-anthony",
   "metadata": {},
   "source": [
    "# TFX for TensorFlow Serving"
   ]
  },
  {
   "cell_type": "markdown",
   "id": "olive-discrimination",
   "metadata": {},
   "source": [
    "- [Servers: TFX for TensorFlow Serving](https://www.tensorflow.org/tfx/tutorials/serving/rest_simple)"
   ]
  },
  {
   "cell_type": "code",
   "execution_count": 1,
   "id": "unlimited-thomson",
   "metadata": {},
   "outputs": [],
   "source": [
    "import sys\n",
    "\n",
    "# Confirm that we're using Python 3\n",
    "assert sys.version_info.major == 3, 'Oops, not running Python 3. Use Runtime > Change runtime type'"
   ]
  },
  {
   "cell_type": "code",
   "execution_count": 2,
   "id": "documentary-earthquake",
   "metadata": {},
   "outputs": [
    {
     "name": "stdout",
     "output_type": "stream",
     "text": [
      "TensorFlow version: 2.4.1\n",
      "TensorFlow GPU support: True\n",
      "[]\n"
     ]
    }
   ],
   "source": [
    "import tensorflow as tf\n",
    "from tensorflow import keras\n",
    "\n",
    "# Helper libraries\n",
    "import numpy as np\n",
    "import matplotlib.pyplot as plt\n",
    "import os\n",
    "import subprocess\n",
    "\n",
    "print(f'TensorFlow version: {tf.__version__}')\n",
    "\n",
    "print(f'TensorFlow GPU support: {tf.test.is_built_with_gpu_support()}')\n",
    "print(tf.config.list_physical_devices('GPU'))"
   ]
  },
  {
   "cell_type": "markdown",
   "id": "prescribed-importance",
   "metadata": {},
   "source": [
    "## Create your model"
   ]
  },
  {
   "cell_type": "markdown",
   "id": "sonic-queensland",
   "metadata": {},
   "source": [
    "### Import the Fashion MNIST dataset\n",
    "\n",
    "- [Fashion MNIST](https://github.com/zalandoresearch/fashion-mnist)"
   ]
  },
  {
   "cell_type": "code",
   "execution_count": 3,
   "id": "psychological-granny",
   "metadata": {},
   "outputs": [
    {
     "name": "stdout",
     "output_type": "stream",
     "text": [
      "\n",
      "train_images.shape: (60000, 28, 28, 1), of float64\n",
      "test_images.shape: (10000, 28, 28, 1), of float64\n"
     ]
    }
   ],
   "source": [
    "fashion_mnist = keras.datasets.fashion_mnist\n",
    "(train_images, train_labels), (test_images, test_labels) = fashion_mnist.load_data()\n",
    "\n",
    "# scale the values to 0.0 to 1.0\n",
    "train_images = train_images / 255.0\n",
    "test_images = test_images / 255.0\n",
    "\n",
    "# reshape for feeding into the model\n",
    "train_images = train_images.reshape(train_images.shape[0], 28, 28, 1)\n",
    "test_images = test_images.reshape(test_images.shape[0], 28, 28, 1)\n",
    "\n",
    "class_names = ['T-shirt/top', 'Trouser', 'Pullover', 'Dress', 'Coat',\n",
    "               'Sandal', 'Shirt', 'Sneaker', 'Bag', 'Ankle boot']\n",
    "\n",
    "print('\\ntrain_images.shape: {}, of {}'.format(train_images.shape, train_images.dtype))\n",
    "print('test_images.shape: {}, of {}'.format(test_images.shape, test_images.dtype))"
   ]
  },
  {
   "cell_type": "markdown",
   "id": "civilian-fabric",
   "metadata": {},
   "source": [
    "### Train and evaluate your model\n",
    "\n",
    "Let's use the simplest possible CNN, since we're not focused on the modeling part."
   ]
  },
  {
   "cell_type": "code",
   "execution_count": 4,
   "id": "spectacular-secondary",
   "metadata": {},
   "outputs": [
    {
     "name": "stdout",
     "output_type": "stream",
     "text": [
      "Model: \"sequential\"\n",
      "_________________________________________________________________\n",
      "Layer (type)                 Output Shape              Param #   \n",
      "=================================================================\n",
      "Conv1 (Conv2D)               (None, 13, 13, 8)         80        \n",
      "_________________________________________________________________\n",
      "flatten (Flatten)            (None, 1352)              0         \n",
      "_________________________________________________________________\n",
      "Dense (Dense)                (None, 10)                13530     \n",
      "=================================================================\n",
      "Total params: 13,610\n",
      "Trainable params: 13,610\n",
      "Non-trainable params: 0\n",
      "_________________________________________________________________\n",
      "Epoch 1/5\n",
      "1875/1875 [==============================] - 2s 1ms/step - loss: 0.7175 - sparse_categorical_accuracy: 0.7593\n",
      "Epoch 2/5\n",
      "1875/1875 [==============================] - 2s 1ms/step - loss: 0.3643 - sparse_categorical_accuracy: 0.8711\n",
      "Epoch 3/5\n",
      "1875/1875 [==============================] - 2s 1ms/step - loss: 0.3249 - sparse_categorical_accuracy: 0.8853\n",
      "Epoch 4/5\n",
      "1875/1875 [==============================] - 2s 1ms/step - loss: 0.3123 - sparse_categorical_accuracy: 0.8865\n",
      "Epoch 5/5\n",
      "1875/1875 [==============================] - 2s 1ms/step - loss: 0.2899 - sparse_categorical_accuracy: 0.8963\n",
      "313/313 [==============================] - 0s 602us/step - loss: 0.3288 - sparse_categorical_accuracy: 0.8828\n",
      "\n",
      "Test accuracy: 0.8827999830245972\n"
     ]
    }
   ],
   "source": [
    "model = keras.Sequential([\n",
    "  keras.layers.Conv2D(input_shape=(28,28,1), filters=8, kernel_size=3, \n",
    "                      strides=2, activation='relu', name='Conv1'),\n",
    "  keras.layers.Flatten(),\n",
    "  keras.layers.Dense(10, name='Dense')\n",
    "])\n",
    "model.summary()\n",
    "\n",
    "testing = False\n",
    "epochs = 5\n",
    "\n",
    "model.compile(optimizer='adam', \n",
    "              loss=tf.keras.losses.SparseCategoricalCrossentropy(from_logits=True),\n",
    "              metrics=[keras.metrics.SparseCategoricalAccuracy()])\n",
    "model.fit(train_images, train_labels, epochs=epochs)\n",
    "\n",
    "test_loss, test_acc = model.evaluate(test_images, test_labels)\n",
    "print('\\nTest accuracy: {}'.format(test_acc))"
   ]
  },
  {
   "cell_type": "markdown",
   "id": "chronic-declaration",
   "metadata": {},
   "source": [
    "## Save your model\n",
    "\n",
    "To load our trained model into TensorFlow Serving we first need to save it in [SavedModel](https://www.tensorflow.org/versions/r1.15/api_docs/python/tf/saved_model) format. This will create a protobuf file in a well-defined directory hierarchy, and will include a version number.\n",
    "\n",
    "[TensorFlow Serving](https://www.tensorflow.org/tfx/guide/serving) allows us to select which version of a model, or \"servable\" we want to use when we make inference requests. Each version will be exported to a different sub-directory under the given path."
   ]
  },
  {
   "cell_type": "code",
   "execution_count": 5,
   "id": "lucky-blowing",
   "metadata": {},
   "outputs": [
    {
     "name": "stdout",
     "output_type": "stream",
     "text": [
      "export_path = /tmp/tfx/1\n",
      "\n",
      "INFO:tensorflow:Assets written to: /tmp/tfx/1/assets\n",
      "\n",
      "Saved model:\n",
      "total 88\n",
      "drwxr-xr-x 2 john john  4096 Apr 12 10:36 assets\n",
      "-rw-rw-r-- 1 john john 78054 Apr 12 10:47 saved_model.pb\n",
      "drwxr-xr-x 2 john john  4096 Apr 12 10:47 variables\n"
     ]
    }
   ],
   "source": [
    "# Fetch the Keras session and save the model\n",
    "# The signature definition is defined by the input and output tensors,\n",
    "# and stored with the default serving key\n",
    "import tempfile\n",
    "\n",
    "MODEL_DIR = os.path.join(tempfile.gettempdir(), 'tfx')\n",
    "version = 1\n",
    "export_path = os.path.join(MODEL_DIR, str(version))\n",
    "print('export_path = {}\\n'.format(export_path))\n",
    "\n",
    "tf.keras.models.save_model(\n",
    "    model,\n",
    "    export_path,\n",
    "    overwrite=True,\n",
    "    include_optimizer=True,\n",
    "    save_format=None,\n",
    "    signatures=None,\n",
    "    options=None\n",
    ")\n",
    "\n",
    "print('\\nSaved model:')\n",
    "!ls -l {export_path}"
   ]
  },
  {
   "cell_type": "markdown",
   "id": "adopted-algorithm",
   "metadata": {},
   "source": [
    "## Examine your saved model\n",
    "\n",
    "We'll use the command line utility `saved_model_cli` to look at the [MetaGraphDefs](https://www.tensorflow.org/versions/r1.15/api_docs/python/tf/MetaGraphDef) (the models) and [SignatureDefs](https://www.tensorflow.org/tfx/tutorials/signature_defs) (the methods you can call) in our SavedModel. See [this discussion of the SavedModel CLI](https://github.com/tensorflow/docs/blob/master/site/en/r1/guide/saved_model.md#cli-to-inspect-and-execute-savedmodel) in the TensorFlow Guide."
   ]
  },
  {
   "cell_type": "code",
   "execution_count": 6,
   "id": "hispanic-chester",
   "metadata": {},
   "outputs": [
    {
     "name": "stdout",
     "output_type": "stream",
     "text": [
      "2021-04-12 10:47:00.462695: I tensorflow/stream_executor/platform/default/dso_loader.cc:49] Successfully opened dynamic library libcudart.so.11.0\n",
      "Traceback (most recent call last):\n",
      "  File \"/home/john/anaconda3/envs/tf/bin/saved_model_cli\", line 8, in <module>\n",
      "    sys.exit(main())\n",
      "  File \"/home/john/anaconda3/envs/tf/lib/python3.8/site-packages/tensorflow/python/tools/saved_model_cli.py\", line 1192, in main\n",
      "    args.func(args)\n",
      "  File \"/home/john/anaconda3/envs/tf/lib/python3.8/site-packages/tensorflow/python/tools/saved_model_cli.py\", line 719, in show\n",
      "    _show_all(args.dir)\n",
      "  File \"/home/john/anaconda3/envs/tf/lib/python3.8/site-packages/tensorflow/python/tools/saved_model_cli.py\", line 296, in _show_all\n",
      "    tag_sets = saved_model_utils.get_saved_model_tag_sets(saved_model_dir)\n",
      "  File \"/home/john/anaconda3/envs/tf/lib/python3.8/site-packages/tensorflow/python/tools/saved_model_utils.py\", line 89, in get_saved_model_tag_sets\n",
      "    saved_model = read_saved_model(saved_model_dir)\n",
      "  File \"/home/john/anaconda3/envs/tf/lib/python3.8/site-packages/tensorflow/python/tools/saved_model_utils.py\", line 55, in read_saved_model\n",
      "    raise IOError(\"SavedModel file does not exist at: %s\" % saved_model_dir)\n",
      "OSError: SavedModel file does not exist at: /tmp/1\n"
     ]
    }
   ],
   "source": [
    "!saved_model_cli show --dir '/tmp/1' --all"
   ]
  },
  {
   "cell_type": "markdown",
   "id": "coated-banking",
   "metadata": {},
   "source": [
    "## Serve your model with TensorFlow Serving\n",
    "\n",
    "\n",
    "> This example is running TensorFlow Serving natively, but [you can also run it in a Docker container](https://www.tensorflow.org/tfx/serving/docker), which is one of the easiest ways to get started using TensorFlow Serving."
   ]
  },
  {
   "cell_type": "markdown",
   "id": "substantial-florida",
   "metadata": {},
   "source": [
    "### Add TensorFlow Serving distribution URI as a package source"
   ]
  },
  {
   "cell_type": "code",
   "execution_count": 7,
   "id": "pacific-means",
   "metadata": {},
   "outputs": [],
   "source": [
    "import sys\n",
    "# We need sudo prefix if not on a Google Colab.\n",
    "if 'google.colab' not in sys.modules:\n",
    "  SUDO_IF_NEEDED = 'sudo'\n",
    "else:\n",
    "  SUDO_IF_NEEDED = ''"
   ]
  },
  {
   "cell_type": "code",
   "execution_count": 8,
   "id": "precise-gentleman",
   "metadata": {},
   "outputs": [],
   "source": [
    "# This is the same as you would do from your command line, but without the [arch=amd64], and no sudo\n",
    "# You would instead do:\n",
    "# echo \"deb [arch=amd64] http://storage.googleapis.com/tensorflow-serving-apt stable tensorflow-model-server tensorflow-model-server-universal\" | sudo tee /etc/apt/sources.list.d/tensorflow-serving.list && \\\n",
    "# curl https://storage.googleapis.com/tensorflow-serving-apt/tensorflow-serving.release.pub.gpg | sudo apt-key add -\n",
    "\n",
    "# echo \"deb http://storage.googleapis.com/tensorflow-serving-apt stable tensorflow-model-server tensorflow-model-server-universal\" | {SUDO_IF_NEEDED} tee /etc/apt/sources.list.d/tensorflow-serving.list && \\\n",
    "# curl https://storage.googleapis.com/tensorflow-serving-apt/tensorflow-serving.release.pub.gpg | {SUDO_IF_NEEDED} apt-key add -\n",
    "# !{SUDO_IF_NEEDED} apt update"
   ]
  },
  {
   "cell_type": "markdown",
   "id": "functioning-lobby",
   "metadata": {},
   "source": [
    "### Install TensorFlow Serving"
   ]
  },
  {
   "cell_type": "code",
   "execution_count": 9,
   "id": "outer-tablet",
   "metadata": {},
   "outputs": [],
   "source": [
    "# !{SUDO_IF_NEEDED} apt-get install tensorflow-model-server"
   ]
  },
  {
   "cell_type": "markdown",
   "id": "completed-relief",
   "metadata": {},
   "source": [
    "### Start running TensorFlow Serving\n",
    "\n",
    "This is where we start running TensorFlow Serving and load our model. After it loads we can start making inference requests using REST. There are some important parameters:\n",
    "\n",
    "- `rest_api_port`: The port that you'll use for REST requests.\n",
    "- `model_name`: You'll use this in the URL of REST requests. It can be anything.\n",
    "- `model_base_path`: This is the path to the directory where you've saved your model."
   ]
  },
  {
   "cell_type": "code",
   "execution_count": 10,
   "id": "later-tension",
   "metadata": {},
   "outputs": [],
   "source": [
    "os.environ[\"MODEL_DIR\"] = MODEL_DIR"
   ]
  },
  {
   "cell_type": "code",
   "execution_count": 11,
   "id": "comparable-singing",
   "metadata": {},
   "outputs": [],
   "source": [
    "# nohup tensorflow_model_server \\\n",
    "#   --rest_api_port=8501 \\\n",
    "#   --model_name=fashion_model \\\n",
    "#   --model_base_path=\"/tmp/tfx\" >server.log 2>&1 &"
   ]
  },
  {
   "cell_type": "code",
   "execution_count": 12,
   "id": "thousand-retirement",
   "metadata": {},
   "outputs": [
    {
     "name": "stdout",
     "output_type": "stream",
     "text": [
      "To enable them in other operations, rebuild TensorFlow with the appropriate compiler flags.\n",
      "2021-04-12 10:44:22.603302: I external/org_tensorflow/tensorflow/cc/saved_model/loader.cc:206] Restoring SavedModel bundle.\n",
      "2021-04-12 10:44:22.624105: I external/org_tensorflow/tensorflow/core/platform/profile_utils/cpu_utils.cc:112] CPU Frequency: 2599990000 Hz\n",
      "2021-04-12 10:44:22.648484: I external/org_tensorflow/tensorflow/cc/saved_model/loader.cc:190] Running initialization op on SavedModel bundle at path: /tmp/tfx/1\n",
      "2021-04-12 10:44:22.651212: I external/org_tensorflow/tensorflow/cc/saved_model/loader.cc:277] SavedModel load for tags { serve }; Status: success: OK. Took 66119 microseconds.\n",
      "2021-04-12 10:44:22.651500: I tensorflow_serving/servables/tensorflow/saved_model_warmup_util.cc:59] No warmup data file found at /tmp/tfx/1/assets.extra/tf_serving_warmup_requests\n",
      "2021-04-12 10:44:22.651693: I tensorflow_serving/core/loader_harness.cc:87] Successfully loaded servable version {name: fashion_model version: 1}\n",
      "2021-04-12 10:44:22.653439: I tensorflow_serving/model_servers/server.cc:371] Running gRPC ModelServer at 0.0.0.0:8500 ...\n",
      "[evhttp_server.cc : 238] NET_LOG: Entering the event loop ...\n",
      "2021-04-12 10:44:22.654305: I tensorflow_serving/model_servers/server.cc:391] Exporting HTTP/REST API at:localhost:8501 ...\n"
     ]
    }
   ],
   "source": [
    "! tail server.log"
   ]
  },
  {
   "cell_type": "markdown",
   "id": "sorted-chuck",
   "metadata": {},
   "source": [
    "## Make a request to your model in TensorFlow Serving\n",
    "\n",
    "First, let's take a look at a random example from our test data."
   ]
  },
  {
   "cell_type": "code",
   "execution_count": 13,
   "id": "behavioral-importance",
   "metadata": {},
   "outputs": [
    {
     "data": {
      "image/png": "[encoded data removed]",
      "text/plain": [
       "<Figure size 432x288 with 1 Axes>"
      ]
     },
     "metadata": {
      "needs_background": "light"
     },
     "output_type": "display_data"
    }
   ],
   "source": [
    "def show(idx, title):\n",
    "  plt.figure()\n",
    "  plt.imshow(test_images[idx].reshape(28,28))\n",
    "  plt.axis('off')\n",
    "  plt.title('\\n\\n{}'.format(title), fontdict={'size': 16})\n",
    "\n",
    "import random\n",
    "rando = random.randint(0,len(test_images)-1)\n",
    "show(rando, 'An Example Image: {}'.format(class_names[test_labels[rando]]))"
   ]
  },
  {
   "cell_type": "markdown",
   "id": "transsexual-moore",
   "metadata": {},
   "source": [
    "Ok, that looks interesting. How hard is that for you to recognize? Now let's create the JSON object for a batch of three inference requests, and see how well our model recognizes things:"
   ]
  },
  {
   "cell_type": "code",
   "execution_count": 14,
   "id": "private-sister",
   "metadata": {},
   "outputs": [
    {
     "name": "stdout",
     "output_type": "stream",
     "text": [
      "Data: {\"signature_name\": \"serving_default\", \"instances\": ...  [0.0], [0.0], [0.0], [0.0], [0.0], [0.0], [0.0]]]]}\n"
     ]
    }
   ],
   "source": [
    "import json\n",
    "data = json.dumps({\"signature_name\": \"serving_default\", \"instances\": test_images[0:3].tolist()})\n",
    "print('Data: {} ... {}'.format(data[:50], data[len(data)-52:]))"
   ]
  },
  {
   "cell_type": "markdown",
   "id": "current-bradley",
   "metadata": {},
   "source": [
    "## Make REST requests"
   ]
  },
  {
   "cell_type": "markdown",
   "id": "painful-fisher",
   "metadata": {},
   "source": [
    "### Newest version of the servable\n",
    "\n",
    "We'll send a predict request as a POST to our server's REST endpoint, and pass it three examples. We'll ask our server to give us the latest version of our servable by not specifying a particular version."
   ]
  },
  {
   "cell_type": "code",
   "execution_count": 15,
   "id": "quality-dryer",
   "metadata": {},
   "outputs": [
    {
     "data": {
      "image/png": "[encoded data removed]",
      "text/plain": [
       "<Figure size 432x288 with 1 Axes>"
      ]
     },
     "metadata": {
      "needs_background": "light"
     },
     "output_type": "display_data"
    }
   ],
   "source": [
    "!pip install -q requests\n",
    "\n",
    "import requests\n",
    "headers = {\"content-type\": \"application/json\"}\n",
    "json_response = requests.post('http://localhost:8501/v1/models/fashion_model:predict', data=data, headers=headers)\n",
    "predictions = json.loads(json_response.text)['predictions']\n",
    "\n",
    "show(0, 'The model thought this was a {} (class {}), and it was actually a {} (class {})'.format(\n",
    "  class_names[np.argmax(predictions[0])], np.argmax(predictions[0]), class_names[test_labels[0]], test_labels[0]))"
   ]
  },
  {
   "cell_type": "markdown",
   "id": "provincial-slope",
   "metadata": {},
   "source": [
    "### A particular version of the servable\n",
    "\n",
    "Now let's specify a particular version of our servable. Since we only have one, let's select version 1. We'll also look at all three results."
   ]
  },
  {
   "cell_type": "code",
   "execution_count": 16,
   "id": "pretty-missouri",
   "metadata": {},
   "outputs": [
    {
     "data": {
      "image/png": "[encoded data removed]",
      "text/plain": [
       "<Figure size 432x288 with 1 Axes>"
      ]
     },
     "metadata": {
      "needs_background": "light"
     },
     "output_type": "display_data"
    },
    {
     "data": {
      "image/png": "[encoded data removed]",
      "text/plain": [
       "<Figure size 432x288 with 1 Axes>"
      ]
     },
     "metadata": {
      "needs_background": "light"
     },
     "output_type": "display_data"
    },
    {
     "data": {
      "image/png": "[encoded data removed]",
      "text/plain": [
       "<Figure size 432x288 with 1 Axes>"
      ]
     },
     "metadata": {
      "needs_background": "light"
     },
     "output_type": "display_data"
    }
   ],
   "source": [
    "headers = {\"content-type\": \"application/json\"}\n",
    "json_response = requests.post('http://localhost:8501/v1/models/fashion_model/versions/1:predict', data=data, headers=headers)\n",
    "predictions = json.loads(json_response.text)['predictions']\n",
    "\n",
    "for i in range(0,3):\n",
    "  show(i, 'The model thought this was a {} (class {}), and it was actually a {} (class {})'.format(\n",
    "    class_names[np.argmax(predictions[i])], np.argmax(predictions[i]), class_names[test_labels[i]], test_labels[i]))"
   ]
  }
 ],
 "metadata": {
  "kernelspec": {
   "display_name": "Python [conda env:tf]",
   "language": "python",
   "name": "conda-env-tf-py"
  },
  "language_info": {
   "codemirror_mode": {
    "name": "ipython",
    "version": 3
   },
   "file_extension": ".py",
   "mimetype": "text/x-python",
   "name": "python",
   "nbconvert_exporter": "python",
   "pygments_lexer": "ipython3",
   "version": "3.8.8"
  },
  "toc-autonumbering": true
 },
 "nbformat": 4,
 "nbformat_minor": 5
}
